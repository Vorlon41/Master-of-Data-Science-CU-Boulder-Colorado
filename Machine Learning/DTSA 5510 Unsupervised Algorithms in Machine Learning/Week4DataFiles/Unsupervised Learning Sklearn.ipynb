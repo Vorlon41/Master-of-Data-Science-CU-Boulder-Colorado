{
 "cells": [
  {
   "cell_type": "markdown",
   "id": "0c0b3d0f-e347-4200-b0ce-c86f5cf18794",
   "metadata": {},
   "source": [
    "# Week 4 Unsupervised Learning Sklearn’s Non-Negative Matrix Factorization "
   ]
  },
  {
   "cell_type": "code",
   "execution_count": 34,
   "id": "5b56f958-2e81-45f2-b12e-02a463b6aa47",
   "metadata": {},
   "outputs": [],
   "source": [
    "# Libraries\n",
    "import pandas as pd\n",
    "import numpy as np\n",
    "from scipy.sparse import coo_matrix\n",
    "from sklearn.decomposition import NMF\n",
    "import warnings\n",
    "warnings.filterwarnings('ignore')\n",
    "from sklearn.metrics import mean_squared_error"
   ]
  },
  {
   "cell_type": "code",
   "execution_count": 11,
   "id": "25dd3748-207f-411a-9543-4a7cca5d1cbc",
   "metadata": {},
   "outputs": [],
   "source": [
    "# Import the data\n",
    "\n",
    "users = pd.read_csv('https://raw.githubusercontent.com/Vorlon41/Master-of-Data-Science-CU-Boulder-Colorado/main/Machine%20Learning/DTSA%205510%20Unsupervised%20Algorithms%20in%20Machine%20Learning/Week4DataFiles/users.csv')\n",
    "movies = pd.read_csv('https://raw.githubusercontent.com/Vorlon41/Master-of-Data-Science-CU-Boulder-Colorado/main/Machine%20Learning/DTSA%205510%20Unsupervised%20Algorithms%20in%20Machine%20Learning/Week4DataFiles/movies.csv')\n",
    "train = pd.read_csv('https://raw.githubusercontent.com/Vorlon41/Master-of-Data-Science-CU-Boulder-Colorado/main/Machine%20Learning/DTSA%205510%20Unsupervised%20Algorithms%20in%20Machine%20Learning/Week4DataFiles/train.csv')\n",
    "test = pd.read_csv('https://raw.githubusercontent.com/Vorlon41/Master-of-Data-Science-CU-Boulder-Colorado/main/Machine%20Learning/DTSA%205510%20Unsupervised%20Algorithms%20in%20Machine%20Learning/Week4DataFiles/test.csv')"
   ]
  },
  {
   "cell_type": "code",
   "execution_count": 13,
   "id": "4413ef83-3e51-4f91-8c1b-58ebe28bd0c7",
   "metadata": {},
   "outputs": [
    {
     "name": "stdout",
     "output_type": "stream",
     "text": [
      "    uID   mID  rating\n",
      "0   744  1210       5\n",
      "1  3040  1584       4\n",
      "2  1451  1293       5\n",
      "3  5455  3176       2\n",
      "4  2507  3074       5\n",
      "<class 'pandas.core.frame.DataFrame'>\n",
      "RangeIndex: 700146 entries, 0 to 700145\n",
      "Data columns (total 3 columns):\n",
      " #   Column  Non-Null Count   Dtype\n",
      "---  ------  --------------   -----\n",
      " 0   uID     700146 non-null  int64\n",
      " 1   mID     700146 non-null  int64\n",
      " 2   rating  700146 non-null  int64\n",
      "dtypes: int64(3)\n",
      "memory usage: 16.0 MB\n",
      "None\n"
     ]
    }
   ],
   "source": [
    "print(train.head())     # See the first 5 rows\n",
    "print(train.info())     # See basic structure\n"
   ]
  },
  {
   "cell_type": "markdown",
   "id": "b514290a-3c4b-4b3b-8398-942981f0be69",
   "metadata": {},
   "source": [
    "## Load the movie ratings data and use matrix factorization technique(s) and predict the missing ratings from the test data. Measure the RMSE."
   ]
  },
  {
   "cell_type": "code",
   "execution_count": 16,
   "id": "e0648e41-b41b-465b-8e04-25c200254913",
   "metadata": {},
   "outputs": [],
   "source": [
    "allusers = list(users['uID'])\n",
    "allmovies = list(movies['mID'])\n",
    "mid2idx = dict(zip(movies.mID,list(range(len(movies)))))\n",
    "uid2idx = dict(zip(users.uID,list(range(len(users)))))\n",
    "ind_movie = [mid2idx[x] for x in train.mID] \n",
    "ind_user = [uid2idx[x] for x in train.uID]\n",
    "rating_train = list(train.rating)\n",
    "Mr = np.array(coo_matrix((rating_train, (ind_user, ind_movie)), shape=(len(allusers), len(allmovies))).toarray())\n",
    "\n",
    "     "
   ]
  },
  {
   "cell_type": "code",
   "execution_count": 18,
   "id": "21cad855-4c01-48bf-a34b-333fea1b758b",
   "metadata": {},
   "outputs": [
    {
     "data": {
      "text/plain": [
       "array([[5, 0, 0, ..., 0, 0, 0],\n",
       "       [0, 0, 0, ..., 0, 0, 0],\n",
       "       [0, 0, 0, ..., 0, 0, 0],\n",
       "       ...,\n",
       "       [0, 0, 0, ..., 0, 0, 0],\n",
       "       [0, 0, 0, ..., 0, 0, 0],\n",
       "       [3, 0, 0, ..., 0, 0, 0]])"
      ]
     },
     "execution_count": 18,
     "metadata": {},
     "output_type": "execute_result"
    }
   ],
   "source": [
    "Mr"
   ]
  },
  {
   "cell_type": "code",
   "execution_count": 20,
   "id": "8761762d-15fc-4174-afb2-f89a2146017b",
   "metadata": {},
   "outputs": [
    {
     "data": {
      "text/plain": [
       "0.029852745794625237"
      ]
     },
     "execution_count": 20,
     "metadata": {},
     "output_type": "execute_result"
    }
   ],
   "source": [
    "# Computing the sparsity\n",
    "len(Mr.nonzero()[0]) / float(Mr.shape[0] * Mr.shape[1])"
   ]
  },
  {
   "cell_type": "code",
   "execution_count": 22,
   "id": "7e8aeba5-c410-47df-b1f8-429bb86243e6",
   "metadata": {},
   "outputs": [],
   "source": [
    "ind_movie_test = [mid2idx[x] for x in test.mID] \n",
    "ind_user_test = [uid2idx[x] for x in test.uID]\n",
    "rating_test = list(test.rating)\n",
    "Mr_test = np.array(coo_matrix((rating_test, (ind_user_test, ind_movie_test)), shape=(len(allusers), len(allmovies))).toarray())\n",
    "     "
   ]
  },
  {
   "cell_type": "code",
   "execution_count": 24,
   "id": "cf6d11ef-5109-4fde-988c-7ebc7345133f",
   "metadata": {},
   "outputs": [
    {
     "data": {
      "text/plain": [
       "0.012794052185362243"
      ]
     },
     "execution_count": 24,
     "metadata": {},
     "output_type": "execute_result"
    }
   ],
   "source": [
    "len(Mr_test.nonzero()[0]) / float(Mr_test.shape[0] * Mr_test.shape[1])"
   ]
  },
  {
   "cell_type": "code",
   "execution_count": 28,
   "id": "5823b7b5-b9d3-4ce9-8fd9-b244fc6201e8",
   "metadata": {},
   "outputs": [],
   "source": [
    "model = NMF(n_components=20)     \n",
    "W = model.fit_transform(Mr)\n",
    "H = model.components_"
   ]
  },
  {
   "cell_type": "code",
   "execution_count": 29,
   "id": "5c9795a6-f9a5-4b70-b907-905b22d62c14",
   "metadata": {},
   "outputs": [],
   "source": [
    "Mr_pred = H.T.dot(W.T).T"
   ]
  },
  {
   "cell_type": "code",
   "execution_count": 32,
   "id": "721da650-5a77-466e-8a41-8d8f6f78e9bb",
   "metadata": {},
   "outputs": [
    {
     "data": {
      "text/plain": [
       "array([[1.79464002e+00, 5.34311639e-01, 1.15749301e-02, ...,\n",
       "        1.29737624e-02, 6.40729530e-03, 9.17142916e-02],\n",
       "       [1.22744873e+00, 3.72580112e-01, 1.39461017e-01, ...,\n",
       "        1.65134832e-02, 0.00000000e+00, 3.70602063e-02],\n",
       "       [6.99488318e-01, 1.46098069e-01, 1.02131271e-03, ...,\n",
       "        0.00000000e+00, 0.00000000e+00, 0.00000000e+00],\n",
       "       ...,\n",
       "       [6.25181940e-01, 1.38935621e-02, 1.27455412e-03, ...,\n",
       "        1.38678171e-03, 0.00000000e+00, 0.00000000e+00],\n",
       "       [1.25286703e+00, 2.86990278e-01, 9.39784923e-02, ...,\n",
       "        4.85286743e-02, 0.00000000e+00, 0.00000000e+00],\n",
       "       [1.25535953e+00, 9.74039020e-02, 6.40501225e-03, ...,\n",
       "        9.33149194e-02, 9.31066927e-02, 4.21293214e-01]])"
      ]
     },
     "execution_count": 32,
     "metadata": {},
     "output_type": "execute_result"
    }
   ],
   "source": [
    "\n",
    "Mr_pred"
   ]
  },
  {
   "cell_type": "code",
   "execution_count": 36,
   "id": "18ab5d93-08ec-40b5-af51-9a541af052c1",
   "metadata": {},
   "outputs": [],
   "source": [
    "rmse = np.sqrt(mean_squared_error(Mr_pred[Mr_test.nonzero()].flatten(), Mr_test[Mr_test.nonzero()].flatten()))\n",
    "     "
   ]
  },
  {
   "cell_type": "code",
   "execution_count": 38,
   "id": "ec8efb79-9c35-4383-a44b-29223628b3ac",
   "metadata": {},
   "outputs": [
    {
     "data": {
      "text/plain": [
       "2.8622637677758154"
      ]
     },
     "execution_count": 38,
     "metadata": {},
     "output_type": "execute_result"
    }
   ],
   "source": [
    "rmse"
   ]
  },
  {
   "cell_type": "markdown",
   "id": "47b6761a-4ae2-40dc-aea0-c6d8e63fbad7",
   "metadata": {},
   "source": [
    "## Discuss the results and why they did not work well compared to simple baseline or similarity-based methods we’ve done in Module 3. Can you suggest a way(s) to fix it?"
   ]
  },
  {
   "cell_type": "markdown",
   "id": "714718b5-274d-46bb-93f2-121fab5affbb",
   "metadata": {},
   "source": [
    "In comparison, a simple baseline model achieved a much lower RMSE of approximately 1.26, demonstrating substantially better predictive accuracy than the NMF model (RMSE ≈ 2.86).\n",
    "This gap highlights that in very sparse datasets, simpler models that directly use observed ratings and local similarity structures are often more effective than matrix factorization techniques.\n",
    "\n",
    "The poor performance of NMF in this setting can be attributed to several factors.\n",
    "First, NMF operates purely on the user-movie rating matrix without considering true underlying user or movie features, leading to limited generalization.\n",
    "Second, NMF by default optimizes a standard L2 (Euclidean) loss, which does not perform well when applied to highly sparse matrices containing mostly zeros.\n",
    "As a result, the model ends up fitting missing data (zeros) rather than accurately modeling the known ratings.\n",
    "\n",
    "Several improvements could potentially enhance NMF performance.\n",
    "Tuning the number of components (n_components) through a method like GridSearchCV could help find a more optimal latent space representation.\n",
    "In addition, switching the NMF loss function from standard L2 loss to Kullback-Leibler (KL) divergence would be more appropriate for sparse data, as KL loss is better suited to distributions with many zero entries.\n",
    "Finally, applying regularization (e.g., using an alpha penalty) would help prevent overfitting and improve generalization to unseen ratings."
   ]
  },
  {
   "cell_type": "code",
   "execution_count": null,
   "id": "2eccb407-370a-411d-b179-bcb8ba6845a2",
   "metadata": {},
   "outputs": [],
   "source": []
  }
 ],
 "metadata": {
  "kernelspec": {
   "display_name": "Python 3 (ipykernel)",
   "language": "python",
   "name": "python3"
  },
  "language_info": {
   "codemirror_mode": {
    "name": "ipython",
    "version": 3
   },
   "file_extension": ".py",
   "mimetype": "text/x-python",
   "name": "python",
   "nbconvert_exporter": "python",
   "pygments_lexer": "ipython3",
   "version": "3.12.4"
  }
 },
 "nbformat": 4,
 "nbformat_minor": 5
}
